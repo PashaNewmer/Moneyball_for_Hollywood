{
 "cells": [
  {
   "cell_type": "markdown",
   "metadata": {},
   "source": [
    "# Modeling"
   ]
  },
  {
   "cell_type": "markdown",
   "metadata": {},
   "source": [
    "First let's import necessary libraries and datasets."
   ]
  },
  {
   "cell_type": "code",
   "execution_count": 2,
   "metadata": {},
   "outputs": [
    {
     "name": "stderr",
     "output_type": "stream",
     "text": [
      "/anaconda3/envs/dsi/lib/python3.6/site-packages/sklearn/ensemble/weight_boosting.py:29: DeprecationWarning: numpy.core.umath_tests is an internal NumPy module and should not be imported. It will be removed in a future NumPy release.\n",
      "  from numpy.core.umath_tests import inner1d\n"
     ]
    }
   ],
   "source": [
    "import numpy as np\n",
    "import pandas as pd\n",
    "import json\n",
    "import ast\n",
    "import datetime\n",
    "import requests\n",
    "import time\n",
    "import regex as re\n",
    "import nltk\n",
    "from sklearn.utils import shuffle\n",
    "from nltk.corpus import stopwords\n",
    "from sklearn.feature_extraction.text import CountVectorizer, ENGLISH_STOP_WORDS\n",
    "from nltk.tokenize import RegexpTokenizer\n",
    "from nltk.stem import WordNetLemmatizer\n",
    "from sklearn.feature_extraction import stop_words\n",
    "from sklearn.feature_extraction.text import HashingVectorizer, TfidfVectorizer\n",
    "from sklearn.model_selection import train_test_split, cross_val_score, KFold, GridSearchCV\n",
    "from sklearn.ensemble import RandomForestClassifier\n",
    "from sklearn.ensemble import GradientBoostingClassifier, AdaBoostClassifier\n",
    "from sklearn.tree import DecisionTreeClassifier\n",
    "from sklearn.ensemble import VotingClassifier\n",
    "from sklearn.neighbors import KNeighborsClassifier\n",
    "from sklearn.linear_model import LogisticRegression\n",
    "from sklearn.preprocessing import StandardScaler\n",
    "from sklearn.pipeline import Pipeline\n",
    "from sklearn.decomposition import TruncatedSVD\n",
    "from bs4 import BeautifulSoup\n",
    "from progressbar import ProgressBar\n",
    "\n",
    "np.random.seed(42)"
   ]
  },
  {
   "cell_type": "code",
   "execution_count": 3,
   "metadata": {},
   "outputs": [
    {
     "data": {
      "text/html": [
       "<div>\n",
       "<style scoped>\n",
       "    .dataframe tbody tr th:only-of-type {\n",
       "        vertical-align: middle;\n",
       "    }\n",
       "\n",
       "    .dataframe tbody tr th {\n",
       "        vertical-align: top;\n",
       "    }\n",
       "\n",
       "    .dataframe thead th {\n",
       "        text-align: right;\n",
       "    }\n",
       "</style>\n",
       "<table border=\"1\" class=\"dataframe\">\n",
       "  <thead>\n",
       "    <tr style=\"text-align: right;\">\n",
       "      <th></th>\n",
       "      <th>Unnamed: 0</th>\n",
       "      <th>belongs_to_collection</th>\n",
       "      <th>budget</th>\n",
       "      <th>genres</th>\n",
       "      <th>homepage</th>\n",
       "      <th>overview</th>\n",
       "      <th>popularity</th>\n",
       "      <th>production_companies</th>\n",
       "      <th>production_countries</th>\n",
       "      <th>release_date</th>\n",
       "      <th>...</th>\n",
       "      <th>runtime</th>\n",
       "      <th>spoken_languages</th>\n",
       "      <th>tagline</th>\n",
       "      <th>title</th>\n",
       "      <th>vote_average</th>\n",
       "      <th>vote_count</th>\n",
       "      <th>keywords</th>\n",
       "      <th>cast</th>\n",
       "      <th>crew</th>\n",
       "      <th>director</th>\n",
       "    </tr>\n",
       "  </thead>\n",
       "  <tbody>\n",
       "    <tr>\n",
       "      <th>0</th>\n",
       "      <td>0</td>\n",
       "      <td>1</td>\n",
       "      <td>30000000.0</td>\n",
       "      <td>['Animation', 'Comedy', 'Family']</td>\n",
       "      <td>1</td>\n",
       "      <td>Led by Woody, Andy's toys live happily in his ...</td>\n",
       "      <td>21.946943</td>\n",
       "      <td>['Pixar Animation Studios']</td>\n",
       "      <td>['United States of America']</td>\n",
       "      <td>1995-10-30</td>\n",
       "      <td>...</td>\n",
       "      <td>81.0</td>\n",
       "      <td>English</td>\n",
       "      <td>NaN</td>\n",
       "      <td>Toy Story</td>\n",
       "      <td>7.7</td>\n",
       "      <td>5415.0</td>\n",
       "      <td>['jealousy', 'toy', 'boy', 'friendship', 'frie...</td>\n",
       "      <td>['Tom Hanks', 'Tim Allen', 'Don Rickles', 'Jim...</td>\n",
       "      <td>[{'credit_id': '52fe4284c3a36847f8024f49', 'de...</td>\n",
       "      <td>John Lasseter</td>\n",
       "    </tr>\n",
       "    <tr>\n",
       "      <th>1</th>\n",
       "      <td>1</td>\n",
       "      <td>0</td>\n",
       "      <td>65000000.0</td>\n",
       "      <td>['Adventure', 'Fantasy', 'Family']</td>\n",
       "      <td>0</td>\n",
       "      <td>When siblings Judy and Peter discover an encha...</td>\n",
       "      <td>17.015539</td>\n",
       "      <td>['TriStar Pictures', 'Teitler Film', 'Intersco...</td>\n",
       "      <td>['United States of America']</td>\n",
       "      <td>1995-12-15</td>\n",
       "      <td>...</td>\n",
       "      <td>104.0</td>\n",
       "      <td>English</td>\n",
       "      <td>Roll the dice and unleash the excitement!</td>\n",
       "      <td>Jumanji</td>\n",
       "      <td>6.9</td>\n",
       "      <td>2413.0</td>\n",
       "      <td>['board game', 'disappearance', \"based on chil...</td>\n",
       "      <td>['Robin Williams', 'Jonathan Hyde', 'Kirsten D...</td>\n",
       "      <td>[{'credit_id': '52fe44bfc3a36847f80a7cd1', 'de...</td>\n",
       "      <td>Joe Johnston</td>\n",
       "    </tr>\n",
       "    <tr>\n",
       "      <th>2</th>\n",
       "      <td>2</td>\n",
       "      <td>1</td>\n",
       "      <td>NaN</td>\n",
       "      <td>['Romance', 'Comedy']</td>\n",
       "      <td>0</td>\n",
       "      <td>A family wedding reignites the ancient feud be...</td>\n",
       "      <td>11.712900</td>\n",
       "      <td>['Warner Bros.', 'Lancaster Gate']</td>\n",
       "      <td>['United States of America']</td>\n",
       "      <td>1995-12-22</td>\n",
       "      <td>...</td>\n",
       "      <td>101.0</td>\n",
       "      <td>English</td>\n",
       "      <td>Still Yelling. Still Fighting. Still Ready for...</td>\n",
       "      <td>Grumpier Old Men</td>\n",
       "      <td>6.5</td>\n",
       "      <td>92.0</td>\n",
       "      <td>['fishing', 'best friend', 'duringcreditssting...</td>\n",
       "      <td>['Walter Matthau', 'Jack Lemmon', 'Ann-Margret...</td>\n",
       "      <td>[{'credit_id': '52fe466a9251416c75077a89', 'de...</td>\n",
       "      <td>Howard Deutch</td>\n",
       "    </tr>\n",
       "    <tr>\n",
       "      <th>3</th>\n",
       "      <td>3</td>\n",
       "      <td>0</td>\n",
       "      <td>16000000.0</td>\n",
       "      <td>['Comedy', 'Drama', 'Romance']</td>\n",
       "      <td>0</td>\n",
       "      <td>Cheated on, mistreated and stepped on, the wom...</td>\n",
       "      <td>3.859495</td>\n",
       "      <td>['Twentieth Century Fox Film Corporation']</td>\n",
       "      <td>['United States of America']</td>\n",
       "      <td>1995-12-22</td>\n",
       "      <td>...</td>\n",
       "      <td>127.0</td>\n",
       "      <td>English</td>\n",
       "      <td>Friends are the people who let you be yourself...</td>\n",
       "      <td>Waiting to Exhale</td>\n",
       "      <td>6.1</td>\n",
       "      <td>34.0</td>\n",
       "      <td>['based on novel', 'interracial relationship',...</td>\n",
       "      <td>['Whitney Houston', 'Angela Bassett', 'Loretta...</td>\n",
       "      <td>[{'credit_id': '52fe44779251416c91011acb', 'de...</td>\n",
       "      <td>Forest Whitaker</td>\n",
       "    </tr>\n",
       "    <tr>\n",
       "      <th>4</th>\n",
       "      <td>4</td>\n",
       "      <td>1</td>\n",
       "      <td>NaN</td>\n",
       "      <td>['Comedy']</td>\n",
       "      <td>0</td>\n",
       "      <td>Just when George Banks has recovered from his ...</td>\n",
       "      <td>8.387519</td>\n",
       "      <td>['Sandollar Productions', 'Touchstone Pictures']</td>\n",
       "      <td>['United States of America']</td>\n",
       "      <td>1995-02-10</td>\n",
       "      <td>...</td>\n",
       "      <td>106.0</td>\n",
       "      <td>English</td>\n",
       "      <td>Just When His World Is Back To Normal... He's ...</td>\n",
       "      <td>Father of the Bride Part II</td>\n",
       "      <td>5.7</td>\n",
       "      <td>173.0</td>\n",
       "      <td>['baby', 'midlife crisis', 'confidence', 'agin...</td>\n",
       "      <td>['Steve Martin', 'Diane Keaton', 'Martin Short...</td>\n",
       "      <td>[{'credit_id': '52fe44959251416c75039ed7', 'de...</td>\n",
       "      <td>Charles Shyer</td>\n",
       "    </tr>\n",
       "  </tbody>\n",
       "</table>\n",
       "<p>5 rows × 21 columns</p>\n",
       "</div>"
      ],
      "text/plain": [
       "   Unnamed: 0  belongs_to_collection      budget  \\\n",
       "0           0                      1  30000000.0   \n",
       "1           1                      0  65000000.0   \n",
       "2           2                      1         NaN   \n",
       "3           3                      0  16000000.0   \n",
       "4           4                      1         NaN   \n",
       "\n",
       "                               genres  homepage  \\\n",
       "0   ['Animation', 'Comedy', 'Family']         1   \n",
       "1  ['Adventure', 'Fantasy', 'Family']         0   \n",
       "2               ['Romance', 'Comedy']         0   \n",
       "3      ['Comedy', 'Drama', 'Romance']         0   \n",
       "4                          ['Comedy']         0   \n",
       "\n",
       "                                            overview  popularity  \\\n",
       "0  Led by Woody, Andy's toys live happily in his ...   21.946943   \n",
       "1  When siblings Judy and Peter discover an encha...   17.015539   \n",
       "2  A family wedding reignites the ancient feud be...   11.712900   \n",
       "3  Cheated on, mistreated and stepped on, the wom...    3.859495   \n",
       "4  Just when George Banks has recovered from his ...    8.387519   \n",
       "\n",
       "                                production_companies  \\\n",
       "0                        ['Pixar Animation Studios']   \n",
       "1  ['TriStar Pictures', 'Teitler Film', 'Intersco...   \n",
       "2                 ['Warner Bros.', 'Lancaster Gate']   \n",
       "3         ['Twentieth Century Fox Film Corporation']   \n",
       "4   ['Sandollar Productions', 'Touchstone Pictures']   \n",
       "\n",
       "           production_countries release_date       ...         runtime  \\\n",
       "0  ['United States of America']   1995-10-30       ...            81.0   \n",
       "1  ['United States of America']   1995-12-15       ...           104.0   \n",
       "2  ['United States of America']   1995-12-22       ...           101.0   \n",
       "3  ['United States of America']   1995-12-22       ...           127.0   \n",
       "4  ['United States of America']   1995-02-10       ...           106.0   \n",
       "\n",
       "   spoken_languages                                            tagline  \\\n",
       "0           English                                                NaN   \n",
       "1           English          Roll the dice and unleash the excitement!   \n",
       "2           English  Still Yelling. Still Fighting. Still Ready for...   \n",
       "3           English  Friends are the people who let you be yourself...   \n",
       "4           English  Just When His World Is Back To Normal... He's ...   \n",
       "\n",
       "                         title vote_average  vote_count  \\\n",
       "0                    Toy Story          7.7      5415.0   \n",
       "1                      Jumanji          6.9      2413.0   \n",
       "2             Grumpier Old Men          6.5        92.0   \n",
       "3            Waiting to Exhale          6.1        34.0   \n",
       "4  Father of the Bride Part II          5.7       173.0   \n",
       "\n",
       "                                            keywords  \\\n",
       "0  ['jealousy', 'toy', 'boy', 'friendship', 'frie...   \n",
       "1  ['board game', 'disappearance', \"based on chil...   \n",
       "2  ['fishing', 'best friend', 'duringcreditssting...   \n",
       "3  ['based on novel', 'interracial relationship',...   \n",
       "4  ['baby', 'midlife crisis', 'confidence', 'agin...   \n",
       "\n",
       "                                                cast  \\\n",
       "0  ['Tom Hanks', 'Tim Allen', 'Don Rickles', 'Jim...   \n",
       "1  ['Robin Williams', 'Jonathan Hyde', 'Kirsten D...   \n",
       "2  ['Walter Matthau', 'Jack Lemmon', 'Ann-Margret...   \n",
       "3  ['Whitney Houston', 'Angela Bassett', 'Loretta...   \n",
       "4  ['Steve Martin', 'Diane Keaton', 'Martin Short...   \n",
       "\n",
       "                                                crew         director  \n",
       "0  [{'credit_id': '52fe4284c3a36847f8024f49', 'de...    John Lasseter  \n",
       "1  [{'credit_id': '52fe44bfc3a36847f80a7cd1', 'de...     Joe Johnston  \n",
       "2  [{'credit_id': '52fe466a9251416c75077a89', 'de...    Howard Deutch  \n",
       "3  [{'credit_id': '52fe44779251416c91011acb', 'de...  Forest Whitaker  \n",
       "4  [{'credit_id': '52fe44959251416c75039ed7', 'de...    Charles Shyer  \n",
       "\n",
       "[5 rows x 21 columns]"
      ]
     },
     "execution_count": 3,
     "metadata": {},
     "output_type": "execute_result"
    }
   ],
   "source": [
    "df = pd.read_csv('../Data/Clean_movies.csv')\n",
    "df.head()"
   ]
  },
  {
   "cell_type": "markdown",
   "metadata": {},
   "source": [
    "Genres, production_companies, production_countries, cast and crew is the stringified JSON Object and/or listS. I will extract the information we need out of it. "
   ]
  },
  {
   "cell_type": "code",
   "execution_count": 4,
   "metadata": {},
   "outputs": [],
   "source": [
    "df['crew'] = df['crew'].fillna('[]').apply(ast.literal_eval)\n",
    "df['crew'] = df['crew'].apply(lambda x: [i['name'] for i in x] if isinstance(x, list) else [])"
   ]
  },
  {
   "cell_type": "code",
   "execution_count": 5,
   "metadata": {},
   "outputs": [],
   "source": [
    "df.release_date = pd.to_datetime(df.release_date)"
   ]
  },
  {
   "cell_type": "code",
   "execution_count": 6,
   "metadata": {},
   "outputs": [
    {
     "name": "stdout",
     "output_type": "stream",
     "text": [
      "<class 'pandas.core.frame.DataFrame'>\n",
      "RangeIndex: 46629 entries, 0 to 46628\n",
      "Data columns (total 21 columns):\n",
      "Unnamed: 0               46629 non-null int64\n",
      "belongs_to_collection    46629 non-null int64\n",
      "budget                   8722 non-null float64\n",
      "genres                   46629 non-null object\n",
      "homepage                 46629 non-null int64\n",
      "overview                 45634 non-null object\n",
      "popularity               46625 non-null float64\n",
      "production_companies     46629 non-null object\n",
      "production_countries     46629 non-null object\n",
      "release_date             46541 non-null datetime64[ns]\n",
      "revenue                  7292 non-null float64\n",
      "runtime                  44733 non-null float64\n",
      "spoken_languages         42442 non-null object\n",
      "tagline                  20783 non-null object\n",
      "title                    46625 non-null object\n",
      "vote_average             46625 non-null float64\n",
      "vote_count               46625 non-null float64\n",
      "keywords                 46629 non-null object\n",
      "cast                     46629 non-null object\n",
      "crew                     46629 non-null object\n",
      "director                 45711 non-null object\n",
      "dtypes: datetime64[ns](1), float64(6), int64(3), object(11)\n",
      "memory usage: 7.5+ MB\n"
     ]
    }
   ],
   "source": [
    "\n",
    "df.info()"
   ]
  },
  {
   "cell_type": "markdown",
   "metadata": {},
   "source": [
    "Maybe will drop outliers in budget later"
   ]
  },
  {
   "cell_type": "markdown",
   "metadata": {},
   "source": [
    "I will create a binary column, that indicates if the movie made any profit or not and called it success_binary."
   ]
  },
  {
   "cell_type": "code",
   "execution_count": 7,
   "metadata": {},
   "outputs": [
    {
     "data": {
      "text/plain": [
       "0.5119670905011219"
      ]
     },
     "execution_count": 7,
     "metadata": {},
     "output_type": "execute_result"
    }
   ],
   "source": [
    "df['success'] = (df['revenue'] - df['budget']) / df['budget']\n",
    "df_suc = pd.DataFrame(df.dropna(subset=['success']))\n",
    "df_suc['success_binary']= [1 if x > 1 else 0 for x in df_suc['success']]\n",
    "df_suc['success_binary'].mean()"
   ]
  },
  {
   "cell_type": "code",
   "execution_count": 8,
   "metadata": {},
   "outputs": [
    {
     "name": "stdout",
     "output_type": "stream",
     "text": [
      "<class 'pandas.core.frame.DataFrame'>\n",
      "Int64Index: 5348 entries, 0 to 46585\n",
      "Data columns (total 23 columns):\n",
      "Unnamed: 0               5348 non-null int64\n",
      "belongs_to_collection    5348 non-null int64\n",
      "budget                   5348 non-null float64\n",
      "genres                   5348 non-null object\n",
      "homepage                 5348 non-null int64\n",
      "overview                 5338 non-null object\n",
      "popularity               5348 non-null float64\n",
      "production_companies     5348 non-null object\n",
      "production_countries     5348 non-null object\n",
      "release_date             5348 non-null datetime64[ns]\n",
      "revenue                  5348 non-null float64\n",
      "runtime                  5337 non-null float64\n",
      "spoken_languages         5304 non-null object\n",
      "tagline                  4614 non-null object\n",
      "title                    5348 non-null object\n",
      "vote_average             5348 non-null float64\n",
      "vote_count               5348 non-null float64\n",
      "keywords                 5348 non-null object\n",
      "cast                     5348 non-null object\n",
      "crew                     5348 non-null object\n",
      "director                 5343 non-null object\n",
      "success                  5348 non-null float64\n",
      "success_binary           5348 non-null int64\n",
      "dtypes: datetime64[ns](1), float64(7), int64(4), object(11)\n",
      "memory usage: 1002.8+ KB\n"
     ]
    }
   ],
   "source": [
    "df_suc.info()"
   ]
  },
  {
   "cell_type": "markdown",
   "metadata": {},
   "source": [
    "Maybe will drop tagline later"
   ]
  },
  {
   "cell_type": "code",
   "execution_count": 9,
   "metadata": {},
   "outputs": [
    {
     "data": {
      "text/plain": [
       "(4588, 23)"
      ]
     },
     "execution_count": 9,
     "metadata": {},
     "output_type": "execute_result"
    }
   ],
   "source": [
    "df_suc.dropna(inplace=True)\n",
    "df_suc.shape"
   ]
  },
  {
   "cell_type": "markdown",
   "metadata": {},
   "source": [
    "We have 4588 observations without missing values eligible for modeling."
   ]
  },
  {
   "cell_type": "markdown",
   "metadata": {},
   "source": [
    "### Let's create a features for our models"
   ]
  },
  {
   "cell_type": "code",
   "execution_count": 10,
   "metadata": {},
   "outputs": [
    {
     "data": {
      "text/html": [
       "<div>\n",
       "<style scoped>\n",
       "    .dataframe tbody tr th:only-of-type {\n",
       "        vertical-align: middle;\n",
       "    }\n",
       "\n",
       "    .dataframe tbody tr th {\n",
       "        vertical-align: top;\n",
       "    }\n",
       "\n",
       "    .dataframe thead th {\n",
       "        text-align: right;\n",
       "    }\n",
       "</style>\n",
       "<table border=\"1\" class=\"dataframe\">\n",
       "  <thead>\n",
       "    <tr style=\"text-align: right;\">\n",
       "      <th></th>\n",
       "      <th>belongs_to_collection</th>\n",
       "      <th>budget</th>\n",
       "      <th>genres</th>\n",
       "      <th>homepage</th>\n",
       "      <th>title</th>\n",
       "      <th>overview</th>\n",
       "      <th>production_companies</th>\n",
       "      <th>release_date</th>\n",
       "      <th>tagline</th>\n",
       "      <th>runtime</th>\n",
       "      <th>keywords</th>\n",
       "      <th>cast</th>\n",
       "      <th>crew</th>\n",
       "      <th>director</th>\n",
       "      <th>success_binary</th>\n",
       "    </tr>\n",
       "  </thead>\n",
       "  <tbody>\n",
       "    <tr>\n",
       "      <th>1</th>\n",
       "      <td>0</td>\n",
       "      <td>65000000.0</td>\n",
       "      <td>['Adventure', 'Fantasy', 'Family']</td>\n",
       "      <td>0</td>\n",
       "      <td>Jumanji</td>\n",
       "      <td>When siblings Judy and Peter discover an encha...</td>\n",
       "      <td>['TriStar Pictures', 'Teitler Film', 'Intersco...</td>\n",
       "      <td>1995-12-15</td>\n",
       "      <td>Roll the dice and unleash the excitement!</td>\n",
       "      <td>104.0</td>\n",
       "      <td>['board game', 'disappearance', \"based on chil...</td>\n",
       "      <td>['Robin Williams', 'Jonathan Hyde', 'Kirsten D...</td>\n",
       "      <td>[Larry J. Franco, Jonathan Hensleigh, James Ho...</td>\n",
       "      <td>Joe Johnston</td>\n",
       "      <td>1</td>\n",
       "    </tr>\n",
       "    <tr>\n",
       "      <th>3</th>\n",
       "      <td>0</td>\n",
       "      <td>16000000.0</td>\n",
       "      <td>['Comedy', 'Drama', 'Romance']</td>\n",
       "      <td>0</td>\n",
       "      <td>Waiting to Exhale</td>\n",
       "      <td>Cheated on, mistreated and stepped on, the wom...</td>\n",
       "      <td>['Twentieth Century Fox Film Corporation']</td>\n",
       "      <td>1995-12-22</td>\n",
       "      <td>Friends are the people who let you be yourself...</td>\n",
       "      <td>127.0</td>\n",
       "      <td>['based on novel', 'interracial relationship',...</td>\n",
       "      <td>['Whitney Houston', 'Angela Bassett', 'Loretta...</td>\n",
       "      <td>[Forest Whitaker, Ronald Bass, Ronald Bass, Ez...</td>\n",
       "      <td>Forest Whitaker</td>\n",
       "      <td>1</td>\n",
       "    </tr>\n",
       "    <tr>\n",
       "      <th>5</th>\n",
       "      <td>0</td>\n",
       "      <td>60000000.0</td>\n",
       "      <td>['Action', 'Crime', 'Drama', 'Thriller']</td>\n",
       "      <td>0</td>\n",
       "      <td>Heat</td>\n",
       "      <td>Obsessive master thief, Neil McCauley leads a ...</td>\n",
       "      <td>['Regency Enterprises', 'Forward Pass', 'Warne...</td>\n",
       "      <td>1995-12-15</td>\n",
       "      <td>A Los Angeles Crime Saga</td>\n",
       "      <td>170.0</td>\n",
       "      <td>['robbery', 'detective', 'bank', 'obsession', ...</td>\n",
       "      <td>['Al Pacino', 'Robert De Niro', 'Val Kilmer', ...</td>\n",
       "      <td>[Michael Mann, Michael Mann, Art Linson, Micha...</td>\n",
       "      <td>Michael Mann</td>\n",
       "      <td>1</td>\n",
       "    </tr>\n",
       "    <tr>\n",
       "      <th>8</th>\n",
       "      <td>0</td>\n",
       "      <td>35000000.0</td>\n",
       "      <td>['Action', 'Adventure', 'Thriller']</td>\n",
       "      <td>0</td>\n",
       "      <td>Sudden Death</td>\n",
       "      <td>International action superstar Jean Claude Van...</td>\n",
       "      <td>['Universal Pictures', 'Imperial Entertainment...</td>\n",
       "      <td>1995-12-22</td>\n",
       "      <td>Terror goes into overtime.</td>\n",
       "      <td>106.0</td>\n",
       "      <td>['terrorist', 'hostage', 'explosive', 'vice pr...</td>\n",
       "      <td>['Jean-Claude Van Damme', 'Powers Boothe', 'Do...</td>\n",
       "      <td>[Peter Hyams, Karen Elise Baldwin, Gene Quinta...</td>\n",
       "      <td>Peter Hyams</td>\n",
       "      <td>0</td>\n",
       "    </tr>\n",
       "    <tr>\n",
       "      <th>9</th>\n",
       "      <td>1</td>\n",
       "      <td>58000000.0</td>\n",
       "      <td>['Adventure', 'Action', 'Thriller']</td>\n",
       "      <td>1</td>\n",
       "      <td>GoldenEye</td>\n",
       "      <td>James Bond must unmask the mysterious head of ...</td>\n",
       "      <td>['United Artists', 'Eon Productions']</td>\n",
       "      <td>1995-11-16</td>\n",
       "      <td>No limits. No fears. No substitutes.</td>\n",
       "      <td>130.0</td>\n",
       "      <td>['cuba', 'falsely accused', 'secret identity',...</td>\n",
       "      <td>['Pierce Brosnan', 'Sean Bean', 'Izabella Scor...</td>\n",
       "      <td>[Martin Campbell, Ian Fleming, Jeffrey Caine, ...</td>\n",
       "      <td>Martin Campbell</td>\n",
       "      <td>1</td>\n",
       "    </tr>\n",
       "  </tbody>\n",
       "</table>\n",
       "</div>"
      ],
      "text/plain": [
       "   belongs_to_collection      budget  \\\n",
       "1                      0  65000000.0   \n",
       "3                      0  16000000.0   \n",
       "5                      0  60000000.0   \n",
       "8                      0  35000000.0   \n",
       "9                      1  58000000.0   \n",
       "\n",
       "                                     genres  homepage              title  \\\n",
       "1        ['Adventure', 'Fantasy', 'Family']         0            Jumanji   \n",
       "3            ['Comedy', 'Drama', 'Romance']         0  Waiting to Exhale   \n",
       "5  ['Action', 'Crime', 'Drama', 'Thriller']         0               Heat   \n",
       "8       ['Action', 'Adventure', 'Thriller']         0       Sudden Death   \n",
       "9       ['Adventure', 'Action', 'Thriller']         1          GoldenEye   \n",
       "\n",
       "                                            overview  \\\n",
       "1  When siblings Judy and Peter discover an encha...   \n",
       "3  Cheated on, mistreated and stepped on, the wom...   \n",
       "5  Obsessive master thief, Neil McCauley leads a ...   \n",
       "8  International action superstar Jean Claude Van...   \n",
       "9  James Bond must unmask the mysterious head of ...   \n",
       "\n",
       "                                production_companies release_date  \\\n",
       "1  ['TriStar Pictures', 'Teitler Film', 'Intersco...   1995-12-15   \n",
       "3         ['Twentieth Century Fox Film Corporation']   1995-12-22   \n",
       "5  ['Regency Enterprises', 'Forward Pass', 'Warne...   1995-12-15   \n",
       "8  ['Universal Pictures', 'Imperial Entertainment...   1995-12-22   \n",
       "9              ['United Artists', 'Eon Productions']   1995-11-16   \n",
       "\n",
       "                                             tagline  runtime  \\\n",
       "1          Roll the dice and unleash the excitement!    104.0   \n",
       "3  Friends are the people who let you be yourself...    127.0   \n",
       "5                           A Los Angeles Crime Saga    170.0   \n",
       "8                         Terror goes into overtime.    106.0   \n",
       "9               No limits. No fears. No substitutes.    130.0   \n",
       "\n",
       "                                            keywords  \\\n",
       "1  ['board game', 'disappearance', \"based on chil...   \n",
       "3  ['based on novel', 'interracial relationship',...   \n",
       "5  ['robbery', 'detective', 'bank', 'obsession', ...   \n",
       "8  ['terrorist', 'hostage', 'explosive', 'vice pr...   \n",
       "9  ['cuba', 'falsely accused', 'secret identity',...   \n",
       "\n",
       "                                                cast  \\\n",
       "1  ['Robin Williams', 'Jonathan Hyde', 'Kirsten D...   \n",
       "3  ['Whitney Houston', 'Angela Bassett', 'Loretta...   \n",
       "5  ['Al Pacino', 'Robert De Niro', 'Val Kilmer', ...   \n",
       "8  ['Jean-Claude Van Damme', 'Powers Boothe', 'Do...   \n",
       "9  ['Pierce Brosnan', 'Sean Bean', 'Izabella Scor...   \n",
       "\n",
       "                                                crew         director  \\\n",
       "1  [Larry J. Franco, Jonathan Hensleigh, James Ho...     Joe Johnston   \n",
       "3  [Forest Whitaker, Ronald Bass, Ronald Bass, Ez...  Forest Whitaker   \n",
       "5  [Michael Mann, Michael Mann, Art Linson, Micha...     Michael Mann   \n",
       "8  [Peter Hyams, Karen Elise Baldwin, Gene Quinta...      Peter Hyams   \n",
       "9  [Martin Campbell, Ian Fleming, Jeffrey Caine, ...  Martin Campbell   \n",
       "\n",
       "   success_binary  \n",
       "1               1  \n",
       "3               1  \n",
       "5               1  \n",
       "8               0  \n",
       "9               1  "
      ]
     },
     "execution_count": 10,
     "metadata": {},
     "output_type": "execute_result"
    }
   ],
   "source": [
    "df_feat = df_suc[['belongs_to_collection', 'budget', 'genres', 'homepage', 'title', 'overview',\n",
    "              'production_companies', 'release_date', 'tagline', 'runtime', 'keywords',\n",
    "              'cast', 'crew', 'director', 'success_binary']]\n",
    "df_feat.head()"
   ]
  },
  {
   "cell_type": "code",
   "execution_count": 11,
   "metadata": {},
   "outputs": [
    {
     "name": "stderr",
     "output_type": "stream",
     "text": [
      "/anaconda3/envs/dsi/lib/python3.6/site-packages/ipykernel/__main__.py:1: SettingWithCopyWarning: \n",
      "A value is trying to be set on a copy of a slice from a DataFrame.\n",
      "Try using .loc[row_indexer,col_indexer] = value instead\n",
      "\n",
      "See the caveats in the documentation: http://pandas.pydata.org/pandas-docs/stable/indexing.html#indexing-view-versus-copy\n",
      "  if __name__ == '__main__':\n",
      "/anaconda3/envs/dsi/lib/python3.6/site-packages/ipykernel/__main__.py:3: SettingWithCopyWarning: \n",
      "A value is trying to be set on a copy of a slice from a DataFrame.\n",
      "Try using .loc[row_indexer,col_indexer] = value instead\n",
      "\n",
      "See the caveats in the documentation: http://pandas.pydata.org/pandas-docs/stable/indexing.html#indexing-view-versus-copy\n",
      "  app.launch_new_instance()\n"
     ]
    }
   ],
   "source": [
    "df_feat['cast1'] = df_feat['cast'].apply(ast.literal_eval)\n",
    "\n",
    "df_feat['cast1'] = df_feat['cast1'].apply(lambda x: \" \".join(x))"
   ]
  },
  {
   "cell_type": "code",
   "execution_count": 12,
   "metadata": {},
   "outputs": [
    {
     "name": "stderr",
     "output_type": "stream",
     "text": [
      "/anaconda3/envs/dsi/lib/python3.6/site-packages/ipykernel/__main__.py:1: SettingWithCopyWarning: \n",
      "A value is trying to be set on a copy of a slice from a DataFrame.\n",
      "Try using .loc[row_indexer,col_indexer] = value instead\n",
      "\n",
      "See the caveats in the documentation: http://pandas.pydata.org/pandas-docs/stable/indexing.html#indexing-view-versus-copy\n",
      "  if __name__ == '__main__':\n"
     ]
    }
   ],
   "source": [
    "df_feat['crew1'] = df_feat['crew'].apply(lambda x: \" \".join(x))"
   ]
  },
  {
   "cell_type": "code",
   "execution_count": 13,
   "metadata": {},
   "outputs": [
    {
     "name": "stderr",
     "output_type": "stream",
     "text": [
      "/anaconda3/envs/dsi/lib/python3.6/site-packages/ipykernel/__main__.py:1: SettingWithCopyWarning: \n",
      "A value is trying to be set on a copy of a slice from a DataFrame.\n",
      "Try using .loc[row_indexer,col_indexer] = value instead\n",
      "\n",
      "See the caveats in the documentation: http://pandas.pydata.org/pandas-docs/stable/indexing.html#indexing-view-versus-copy\n",
      "  if __name__ == '__main__':\n"
     ]
    }
   ],
   "source": [
    "df_feat['genres1'] = df_feat['genres'].apply(lambda x: \" \".join(x))\n",
    "#df_feat['keywords1'] = df_feat['keywords'].apply(lambda x: \" \".join(x))\n",
    "#df_feat['production_companies1'] = df_feat['production_companies'].apply(lambda x: \" \".join(x))"
   ]
  },
  {
   "cell_type": "code",
   "execution_count": 14,
   "metadata": {},
   "outputs": [
    {
     "name": "stderr",
     "output_type": "stream",
     "text": [
      "/anaconda3/envs/dsi/lib/python3.6/site-packages/ipykernel/__main__.py:1: SettingWithCopyWarning: \n",
      "A value is trying to be set on a copy of a slice from a DataFrame.\n",
      "Try using .loc[row_indexer,col_indexer] = value instead\n",
      "\n",
      "See the caveats in the documentation: http://pandas.pydata.org/pandas-docs/stable/indexing.html#indexing-view-versus-copy\n",
      "  if __name__ == '__main__':\n",
      "/anaconda3/envs/dsi/lib/python3.6/site-packages/ipykernel/__main__.py:3: SettingWithCopyWarning: \n",
      "A value is trying to be set on a copy of a slice from a DataFrame.\n",
      "Try using .loc[row_indexer,col_indexer] = value instead\n",
      "\n",
      "See the caveats in the documentation: http://pandas.pydata.org/pandas-docs/stable/indexing.html#indexing-view-versus-copy\n",
      "  app.launch_new_instance()\n"
     ]
    }
   ],
   "source": [
    "df_feat['genres1'] = df_feat['genres'].apply(ast.literal_eval)\n",
    "\n",
    "df_feat['genres1'] = df_feat['genres1'].apply(lambda x: \" \".join(x))"
   ]
  },
  {
   "cell_type": "code",
   "execution_count": 15,
   "metadata": {},
   "outputs": [
    {
     "name": "stderr",
     "output_type": "stream",
     "text": [
      "/anaconda3/envs/dsi/lib/python3.6/site-packages/ipykernel/__main__.py:1: SettingWithCopyWarning: \n",
      "A value is trying to be set on a copy of a slice from a DataFrame.\n",
      "Try using .loc[row_indexer,col_indexer] = value instead\n",
      "\n",
      "See the caveats in the documentation: http://pandas.pydata.org/pandas-docs/stable/indexing.html#indexing-view-versus-copy\n",
      "  if __name__ == '__main__':\n",
      "/anaconda3/envs/dsi/lib/python3.6/site-packages/ipykernel/__main__.py:3: SettingWithCopyWarning: \n",
      "A value is trying to be set on a copy of a slice from a DataFrame.\n",
      "Try using .loc[row_indexer,col_indexer] = value instead\n",
      "\n",
      "See the caveats in the documentation: http://pandas.pydata.org/pandas-docs/stable/indexing.html#indexing-view-versus-copy\n",
      "  app.launch_new_instance()\n",
      "/anaconda3/envs/dsi/lib/python3.6/site-packages/ipykernel/__main__.py:5: SettingWithCopyWarning: \n",
      "A value is trying to be set on a copy of a slice from a DataFrame.\n",
      "Try using .loc[row_indexer,col_indexer] = value instead\n",
      "\n",
      "See the caveats in the documentation: http://pandas.pydata.org/pandas-docs/stable/indexing.html#indexing-view-versus-copy\n",
      "/anaconda3/envs/dsi/lib/python3.6/site-packages/ipykernel/__main__.py:7: SettingWithCopyWarning: \n",
      "A value is trying to be set on a copy of a slice from a DataFrame.\n",
      "Try using .loc[row_indexer,col_indexer] = value instead\n",
      "\n",
      "See the caveats in the documentation: http://pandas.pydata.org/pandas-docs/stable/indexing.html#indexing-view-versus-copy\n"
     ]
    }
   ],
   "source": [
    "df_feat['keywords1'] = df_feat['keywords'].apply(ast.literal_eval)\n",
    "\n",
    "df_feat['keywords1'] = df_feat['keywords1'].apply(lambda x: \" \".join(x))\n",
    "\n",
    "df_feat['production_companies1'] = df_feat['production_companies'].apply(ast.literal_eval)\n",
    "\n",
    "df_feat['production_companies1'] = df_feat['production_companies1'].apply(lambda x: \" \".join(x))"
   ]
  },
  {
   "cell_type": "code",
   "execution_count": 16,
   "metadata": {},
   "outputs": [
    {
     "data": {
      "text/html": [
       "<div>\n",
       "<style scoped>\n",
       "    .dataframe tbody tr th:only-of-type {\n",
       "        vertical-align: middle;\n",
       "    }\n",
       "\n",
       "    .dataframe tbody tr th {\n",
       "        vertical-align: top;\n",
       "    }\n",
       "\n",
       "    .dataframe thead th {\n",
       "        text-align: right;\n",
       "    }\n",
       "</style>\n",
       "<table border=\"1\" class=\"dataframe\">\n",
       "  <thead>\n",
       "    <tr style=\"text-align: right;\">\n",
       "      <th></th>\n",
       "      <th>belongs_to_collection</th>\n",
       "      <th>budget</th>\n",
       "      <th>genres</th>\n",
       "      <th>homepage</th>\n",
       "      <th>title</th>\n",
       "      <th>overview</th>\n",
       "      <th>production_companies</th>\n",
       "      <th>release_date</th>\n",
       "      <th>tagline</th>\n",
       "      <th>runtime</th>\n",
       "      <th>keywords</th>\n",
       "      <th>cast</th>\n",
       "      <th>crew</th>\n",
       "      <th>director</th>\n",
       "      <th>success_binary</th>\n",
       "      <th>cast1</th>\n",
       "      <th>crew1</th>\n",
       "      <th>genres1</th>\n",
       "      <th>keywords1</th>\n",
       "      <th>production_companies1</th>\n",
       "    </tr>\n",
       "  </thead>\n",
       "  <tbody>\n",
       "    <tr>\n",
       "      <th>1</th>\n",
       "      <td>0</td>\n",
       "      <td>65000000.0</td>\n",
       "      <td>['Adventure', 'Fantasy', 'Family']</td>\n",
       "      <td>0</td>\n",
       "      <td>Jumanji</td>\n",
       "      <td>When siblings Judy and Peter discover an encha...</td>\n",
       "      <td>['TriStar Pictures', 'Teitler Film', 'Intersco...</td>\n",
       "      <td>1995-12-15</td>\n",
       "      <td>Roll the dice and unleash the excitement!</td>\n",
       "      <td>104.0</td>\n",
       "      <td>['board game', 'disappearance', \"based on chil...</td>\n",
       "      <td>['Robin Williams', 'Jonathan Hyde', 'Kirsten D...</td>\n",
       "      <td>[Larry J. Franco, Jonathan Hensleigh, James Ho...</td>\n",
       "      <td>Joe Johnston</td>\n",
       "      <td>1</td>\n",
       "      <td>Robin Williams Jonathan Hyde Kirsten Dunst Bra...</td>\n",
       "      <td>Larry J. Franco Jonathan Hensleigh James Horne...</td>\n",
       "      <td>Adventure Fantasy Family</td>\n",
       "      <td>board game disappearance based on children's b...</td>\n",
       "      <td>TriStar Pictures Teitler Film Interscope Commu...</td>\n",
       "    </tr>\n",
       "    <tr>\n",
       "      <th>3</th>\n",
       "      <td>0</td>\n",
       "      <td>16000000.0</td>\n",
       "      <td>['Comedy', 'Drama', 'Romance']</td>\n",
       "      <td>0</td>\n",
       "      <td>Waiting to Exhale</td>\n",
       "      <td>Cheated on, mistreated and stepped on, the wom...</td>\n",
       "      <td>['Twentieth Century Fox Film Corporation']</td>\n",
       "      <td>1995-12-22</td>\n",
       "      <td>Friends are the people who let you be yourself...</td>\n",
       "      <td>127.0</td>\n",
       "      <td>['based on novel', 'interracial relationship',...</td>\n",
       "      <td>['Whitney Houston', 'Angela Bassett', 'Loretta...</td>\n",
       "      <td>[Forest Whitaker, Ronald Bass, Ronald Bass, Ez...</td>\n",
       "      <td>Forest Whitaker</td>\n",
       "      <td>1</td>\n",
       "      <td>Whitney Houston Angela Bassett Loretta Devine ...</td>\n",
       "      <td>Forest Whitaker Ronald Bass Ronald Bass Ezra S...</td>\n",
       "      <td>Comedy Drama Romance</td>\n",
       "      <td>based on novel interracial relationship single...</td>\n",
       "      <td>Twentieth Century Fox Film Corporation</td>\n",
       "    </tr>\n",
       "    <tr>\n",
       "      <th>5</th>\n",
       "      <td>0</td>\n",
       "      <td>60000000.0</td>\n",
       "      <td>['Action', 'Crime', 'Drama', 'Thriller']</td>\n",
       "      <td>0</td>\n",
       "      <td>Heat</td>\n",
       "      <td>Obsessive master thief, Neil McCauley leads a ...</td>\n",
       "      <td>['Regency Enterprises', 'Forward Pass', 'Warne...</td>\n",
       "      <td>1995-12-15</td>\n",
       "      <td>A Los Angeles Crime Saga</td>\n",
       "      <td>170.0</td>\n",
       "      <td>['robbery', 'detective', 'bank', 'obsession', ...</td>\n",
       "      <td>['Al Pacino', 'Robert De Niro', 'Val Kilmer', ...</td>\n",
       "      <td>[Michael Mann, Michael Mann, Art Linson, Micha...</td>\n",
       "      <td>Michael Mann</td>\n",
       "      <td>1</td>\n",
       "      <td>Al Pacino Robert De Niro Val Kilmer Jon Voight...</td>\n",
       "      <td>Michael Mann Michael Mann Art Linson Michael M...</td>\n",
       "      <td>Action Crime Drama Thriller</td>\n",
       "      <td>robbery detective bank obsession chase shootin...</td>\n",
       "      <td>Regency Enterprises Forward Pass Warner Bros.</td>\n",
       "    </tr>\n",
       "    <tr>\n",
       "      <th>8</th>\n",
       "      <td>0</td>\n",
       "      <td>35000000.0</td>\n",
       "      <td>['Action', 'Adventure', 'Thriller']</td>\n",
       "      <td>0</td>\n",
       "      <td>Sudden Death</td>\n",
       "      <td>International action superstar Jean Claude Van...</td>\n",
       "      <td>['Universal Pictures', 'Imperial Entertainment...</td>\n",
       "      <td>1995-12-22</td>\n",
       "      <td>Terror goes into overtime.</td>\n",
       "      <td>106.0</td>\n",
       "      <td>['terrorist', 'hostage', 'explosive', 'vice pr...</td>\n",
       "      <td>['Jean-Claude Van Damme', 'Powers Boothe', 'Do...</td>\n",
       "      <td>[Peter Hyams, Karen Elise Baldwin, Gene Quinta...</td>\n",
       "      <td>Peter Hyams</td>\n",
       "      <td>0</td>\n",
       "      <td>Jean-Claude Van Damme Powers Boothe Dorian Har...</td>\n",
       "      <td>Peter Hyams Karen Elise Baldwin Gene Quintano ...</td>\n",
       "      <td>Action Adventure Thriller</td>\n",
       "      <td>terrorist hostage explosive vice president</td>\n",
       "      <td>Universal Pictures Imperial Entertainment Sign...</td>\n",
       "    </tr>\n",
       "    <tr>\n",
       "      <th>9</th>\n",
       "      <td>1</td>\n",
       "      <td>58000000.0</td>\n",
       "      <td>['Adventure', 'Action', 'Thriller']</td>\n",
       "      <td>1</td>\n",
       "      <td>GoldenEye</td>\n",
       "      <td>James Bond must unmask the mysterious head of ...</td>\n",
       "      <td>['United Artists', 'Eon Productions']</td>\n",
       "      <td>1995-11-16</td>\n",
       "      <td>No limits. No fears. No substitutes.</td>\n",
       "      <td>130.0</td>\n",
       "      <td>['cuba', 'falsely accused', 'secret identity',...</td>\n",
       "      <td>['Pierce Brosnan', 'Sean Bean', 'Izabella Scor...</td>\n",
       "      <td>[Martin Campbell, Ian Fleming, Jeffrey Caine, ...</td>\n",
       "      <td>Martin Campbell</td>\n",
       "      <td>1</td>\n",
       "      <td>Pierce Brosnan Sean Bean Izabella Scorupco Fam...</td>\n",
       "      <td>Martin Campbell Ian Fleming Jeffrey Caine Bruc...</td>\n",
       "      <td>Adventure Action Thriller</td>\n",
       "      <td>cuba falsely accused secret identity computer ...</td>\n",
       "      <td>United Artists Eon Productions</td>\n",
       "    </tr>\n",
       "  </tbody>\n",
       "</table>\n",
       "</div>"
      ],
      "text/plain": [
       "   belongs_to_collection      budget  \\\n",
       "1                      0  65000000.0   \n",
       "3                      0  16000000.0   \n",
       "5                      0  60000000.0   \n",
       "8                      0  35000000.0   \n",
       "9                      1  58000000.0   \n",
       "\n",
       "                                     genres  homepage              title  \\\n",
       "1        ['Adventure', 'Fantasy', 'Family']         0            Jumanji   \n",
       "3            ['Comedy', 'Drama', 'Romance']         0  Waiting to Exhale   \n",
       "5  ['Action', 'Crime', 'Drama', 'Thriller']         0               Heat   \n",
       "8       ['Action', 'Adventure', 'Thriller']         0       Sudden Death   \n",
       "9       ['Adventure', 'Action', 'Thriller']         1          GoldenEye   \n",
       "\n",
       "                                            overview  \\\n",
       "1  When siblings Judy and Peter discover an encha...   \n",
       "3  Cheated on, mistreated and stepped on, the wom...   \n",
       "5  Obsessive master thief, Neil McCauley leads a ...   \n",
       "8  International action superstar Jean Claude Van...   \n",
       "9  James Bond must unmask the mysterious head of ...   \n",
       "\n",
       "                                production_companies release_date  \\\n",
       "1  ['TriStar Pictures', 'Teitler Film', 'Intersco...   1995-12-15   \n",
       "3         ['Twentieth Century Fox Film Corporation']   1995-12-22   \n",
       "5  ['Regency Enterprises', 'Forward Pass', 'Warne...   1995-12-15   \n",
       "8  ['Universal Pictures', 'Imperial Entertainment...   1995-12-22   \n",
       "9              ['United Artists', 'Eon Productions']   1995-11-16   \n",
       "\n",
       "                                             tagline  runtime  \\\n",
       "1          Roll the dice and unleash the excitement!    104.0   \n",
       "3  Friends are the people who let you be yourself...    127.0   \n",
       "5                           A Los Angeles Crime Saga    170.0   \n",
       "8                         Terror goes into overtime.    106.0   \n",
       "9               No limits. No fears. No substitutes.    130.0   \n",
       "\n",
       "                                            keywords  \\\n",
       "1  ['board game', 'disappearance', \"based on chil...   \n",
       "3  ['based on novel', 'interracial relationship',...   \n",
       "5  ['robbery', 'detective', 'bank', 'obsession', ...   \n",
       "8  ['terrorist', 'hostage', 'explosive', 'vice pr...   \n",
       "9  ['cuba', 'falsely accused', 'secret identity',...   \n",
       "\n",
       "                                                cast  \\\n",
       "1  ['Robin Williams', 'Jonathan Hyde', 'Kirsten D...   \n",
       "3  ['Whitney Houston', 'Angela Bassett', 'Loretta...   \n",
       "5  ['Al Pacino', 'Robert De Niro', 'Val Kilmer', ...   \n",
       "8  ['Jean-Claude Van Damme', 'Powers Boothe', 'Do...   \n",
       "9  ['Pierce Brosnan', 'Sean Bean', 'Izabella Scor...   \n",
       "\n",
       "                                                crew         director  \\\n",
       "1  [Larry J. Franco, Jonathan Hensleigh, James Ho...     Joe Johnston   \n",
       "3  [Forest Whitaker, Ronald Bass, Ronald Bass, Ez...  Forest Whitaker   \n",
       "5  [Michael Mann, Michael Mann, Art Linson, Micha...     Michael Mann   \n",
       "8  [Peter Hyams, Karen Elise Baldwin, Gene Quinta...      Peter Hyams   \n",
       "9  [Martin Campbell, Ian Fleming, Jeffrey Caine, ...  Martin Campbell   \n",
       "\n",
       "   success_binary                                              cast1  \\\n",
       "1               1  Robin Williams Jonathan Hyde Kirsten Dunst Bra...   \n",
       "3               1  Whitney Houston Angela Bassett Loretta Devine ...   \n",
       "5               1  Al Pacino Robert De Niro Val Kilmer Jon Voight...   \n",
       "8               0  Jean-Claude Van Damme Powers Boothe Dorian Har...   \n",
       "9               1  Pierce Brosnan Sean Bean Izabella Scorupco Fam...   \n",
       "\n",
       "                                               crew1  \\\n",
       "1  Larry J. Franco Jonathan Hensleigh James Horne...   \n",
       "3  Forest Whitaker Ronald Bass Ronald Bass Ezra S...   \n",
       "5  Michael Mann Michael Mann Art Linson Michael M...   \n",
       "8  Peter Hyams Karen Elise Baldwin Gene Quintano ...   \n",
       "9  Martin Campbell Ian Fleming Jeffrey Caine Bruc...   \n",
       "\n",
       "                       genres1  \\\n",
       "1     Adventure Fantasy Family   \n",
       "3         Comedy Drama Romance   \n",
       "5  Action Crime Drama Thriller   \n",
       "8    Action Adventure Thriller   \n",
       "9    Adventure Action Thriller   \n",
       "\n",
       "                                           keywords1  \\\n",
       "1  board game disappearance based on children's b...   \n",
       "3  based on novel interracial relationship single...   \n",
       "5  robbery detective bank obsession chase shootin...   \n",
       "8         terrorist hostage explosive vice president   \n",
       "9  cuba falsely accused secret identity computer ...   \n",
       "\n",
       "                               production_companies1  \n",
       "1  TriStar Pictures Teitler Film Interscope Commu...  \n",
       "3             Twentieth Century Fox Film Corporation  \n",
       "5      Regency Enterprises Forward Pass Warner Bros.  \n",
       "8  Universal Pictures Imperial Entertainment Sign...  \n",
       "9                     United Artists Eon Productions  "
      ]
     },
     "execution_count": 16,
     "metadata": {},
     "output_type": "execute_result"
    }
   ],
   "source": [
    "df_feat.head()"
   ]
  },
  {
   "cell_type": "code",
   "execution_count": 17,
   "metadata": {},
   "outputs": [
    {
     "name": "stderr",
     "output_type": "stream",
     "text": [
      "/anaconda3/envs/dsi/lib/python3.6/site-packages/ipykernel/__main__.py:1: SettingWithCopyWarning: \n",
      "A value is trying to be set on a copy of a slice from a DataFrame\n",
      "\n",
      "See the caveats in the documentation: http://pandas.pydata.org/pandas-docs/stable/indexing.html#indexing-view-versus-copy\n",
      "  if __name__ == '__main__':\n"
     ]
    }
   ],
   "source": [
    "df_feat.dropna(inplace=True)"
   ]
  },
  {
   "cell_type": "code",
   "execution_count": 18,
   "metadata": {},
   "outputs": [],
   "source": [
    "df_feat = df_feat.reset_index(drop=True)"
   ]
  },
  {
   "cell_type": "markdown",
   "metadata": {},
   "source": [
    "Now I will chose the folowing columns as a features and combine them together."
   ]
  },
  {
   "cell_type": "code",
   "execution_count": 19,
   "metadata": {},
   "outputs": [],
   "source": [
    "df_feat['text'] = df_feat['title'] + df_feat['overview'] + df_feat['tagline'] + df_feat['director'] + df_feat['cast1'] + df_feat['genres1'] + df_feat['keywords1'] + df_feat['production_companies1'] + df_feat['crew1']"
   ]
  },
  {
   "cell_type": "code",
   "execution_count": 20,
   "metadata": {},
   "outputs": [],
   "source": [
    "df_feat.dropna(inplace=True)"
   ]
  },
  {
   "cell_type": "code",
   "execution_count": 21,
   "metadata": {},
   "outputs": [
    {
     "name": "stdout",
     "output_type": "stream",
     "text": [
      "<class 'pandas.core.frame.DataFrame'>\n",
      "Int64Index: 4588 entries, 0 to 4587\n",
      "Data columns (total 21 columns):\n",
      "belongs_to_collection    4588 non-null int64\n",
      "budget                   4588 non-null float64\n",
      "genres                   4588 non-null object\n",
      "homepage                 4588 non-null int64\n",
      "title                    4588 non-null object\n",
      "overview                 4588 non-null object\n",
      "production_companies     4588 non-null object\n",
      "release_date             4588 non-null datetime64[ns]\n",
      "tagline                  4588 non-null object\n",
      "runtime                  4588 non-null float64\n",
      "keywords                 4588 non-null object\n",
      "cast                     4588 non-null object\n",
      "crew                     4588 non-null object\n",
      "director                 4588 non-null object\n",
      "success_binary           4588 non-null int64\n",
      "cast1                    4588 non-null object\n",
      "crew1                    4588 non-null object\n",
      "genres1                  4588 non-null object\n",
      "keywords1                4588 non-null object\n",
      "production_companies1    4588 non-null object\n",
      "text                     4588 non-null object\n",
      "dtypes: datetime64[ns](1), float64(2), int64(3), object(15)\n",
      "memory usage: 788.6+ KB\n"
     ]
    }
   ],
   "source": [
    "df_feat.info()"
   ]
  },
  {
   "cell_type": "code",
   "execution_count": 22,
   "metadata": {},
   "outputs": [],
   "source": [
    "df_feat.reset_index(inplace=True)"
   ]
  },
  {
   "cell_type": "markdown",
   "metadata": {},
   "source": [
    "Assigning our target"
   ]
  },
  {
   "cell_type": "code",
   "execution_count": 23,
   "metadata": {},
   "outputs": [],
   "source": [
    "y = df_feat['success_binary']"
   ]
  },
  {
   "cell_type": "markdown",
   "metadata": {},
   "source": [
    "First let's try CountVectorizer"
   ]
  },
  {
   "cell_type": "code",
   "execution_count": 23,
   "metadata": {},
   "outputs": [
    {
     "data": {
      "text/plain": [
       "(4588, 30385)"
      ]
     },
     "execution_count": 23,
     "metadata": {},
     "output_type": "execute_result"
    }
   ],
   "source": [
    "from sklearn.feature_extraction.text import CountVectorizer, ENGLISH_STOP_WORDS\n",
    "stop = list(ENGLISH_STOP_WORDS)\n",
    "\n",
    "\n",
    "cv = CountVectorizer(min_df=3, stop_words=stop)\n",
    "\n",
    "\n",
    "cv_arr = cv.fit_transform(df_feat['text'])\n",
    "\n",
    "df_vect = pd.DataFrame(cv_arr.toarray(), columns=cv.get_feature_names())\n",
    "df_vect.shape"
   ]
  },
  {
   "cell_type": "markdown",
   "metadata": {},
   "source": [
    "Because this amout of data will takes forever to proceed with my current computational power, I will use TruncatedSVD in order to reduce it."
   ]
  },
  {
   "cell_type": "code",
   "execution_count": 50,
   "metadata": {},
   "outputs": [],
   "source": [
    "documents = df_feat['text'].copy()\n",
    "\n",
    "vectorizer = CountVectorizer(stop_words='english')\n",
    "\n",
    "svd_model = TruncatedSVD(n_components=2000)\n",
    "\n",
    "svd_transformer = Pipeline([('CountVect', vectorizer), \n",
    "                            ('svd', svd_model)])\n",
    "\n",
    "svd_matrix = svd_transformer.fit_transform(documents) \n",
    "\n",
    "truncated = pd.DataFrame(svd_matrix)"
   ]
  },
  {
   "cell_type": "markdown",
   "metadata": {},
   "source": [
    "Now let's try logistic regression, KFold and RandomForestClassifier"
   ]
  },
  {
   "cell_type": "code",
   "execution_count": 51,
   "metadata": {},
   "outputs": [],
   "source": [
    "from sklearn.model_selection import train_test_split\n",
    "\n",
    "X_train, X_test, y_train, y_test = train_test_split(truncated,\n",
    "                                                    y,\n",
    "                                                    random_state = 42)"
   ]
  },
  {
   "cell_type": "code",
   "execution_count": 52,
   "metadata": {},
   "outputs": [
    {
     "name": "stdout",
     "output_type": "stream",
     "text": [
      "0.9712292938099389\n",
      "0.5666957279860506\n"
     ]
    }
   ],
   "source": [
    "from sklearn.linear_model import LogisticRegression\n",
    "lr = LogisticRegression()\n",
    "lr.fit(X_train, y_train)\n",
    "\n",
    "print(lr.score(X_train, y_train))\n",
    "print(lr.score(X_test, y_test))"
   ]
  },
  {
   "cell_type": "code",
   "execution_count": 53,
   "metadata": {},
   "outputs": [
    {
     "name": "stdout",
     "output_type": "stream",
     "text": [
      "0.5850027002396463\n",
      "0.5893335864818682\n"
     ]
    }
   ],
   "source": [
    "kf = KFold(n_splits=5, shuffle=True,random_state=42)\n",
    "logreg = LogisticRegression(random_state=42)\n",
    "print(cross_val_score(logreg,X_train,y_train,cv=kf).mean())\n",
    "print(cross_val_score(logreg,X_test,y_test,cv=kf).mean())"
   ]
  },
  {
   "cell_type": "code",
   "execution_count": 54,
   "metadata": {},
   "outputs": [
    {
     "data": {
      "text/plain": [
       "0.5385794351667723"
      ]
     },
     "execution_count": 54,
     "metadata": {},
     "output_type": "execute_result"
    }
   ],
   "source": [
    "rf = RandomForestClassifier(random_state=42)\n",
    "cross_val_score(rf,truncated,y,cv=kf).mean()"
   ]
  },
  {
   "cell_type": "markdown",
   "metadata": {},
   "source": [
    "This results does't make us happy, so let's try GridSearch with KNeighborsClassifier and VoringClassifier with AdaBoostClassifier and GradientBoostingClassifier."
   ]
  },
  {
   "cell_type": "code",
   "execution_count": 55,
   "metadata": {},
   "outputs": [
    {
     "name": "stdout",
     "output_type": "stream",
     "text": [
      "Fitting 3 folds for each of 3 candidates, totalling 9 fits\n"
     ]
    },
    {
     "name": "stderr",
     "output_type": "stream",
     "text": [
      "[Parallel(n_jobs=1)]: Done   9 out of   9 | elapsed:  7.2min finished\n"
     ]
    },
    {
     "data": {
      "text/plain": [
       "0.486922406277245"
      ]
     },
     "execution_count": 55,
     "metadata": {},
     "output_type": "execute_result"
    }
   ],
   "source": [
    "knn_params = {\n",
    "    'n_neighbors': [5,10,20],\n",
    "    'weights': ['distance'],\n",
    "    'metric': ['manhattan']\n",
    "}\n",
    "\n",
    "grid = GridSearchCV(KNeighborsClassifier(),\n",
    "                    knn_params,\n",
    "                    cv=3,\n",
    "                    verbose = 1,\n",
    "                   return_train_score = True)\n",
    "\n",
    "grid.fit(truncated, y)\n",
    "grid.best_score_"
   ]
  },
  {
   "cell_type": "code",
   "execution_count": 56,
   "metadata": {},
   "outputs": [
    {
     "name": "stdout",
     "output_type": "stream",
     "text": [
      "0.8294100552165068\n",
      "0.5701830863121186\n"
     ]
    },
    {
     "name": "stderr",
     "output_type": "stream",
     "text": [
      "/anaconda3/envs/dsi/lib/python3.6/site-packages/sklearn/preprocessing/label.py:151: DeprecationWarning: The truth value of an empty array is ambiguous. Returning False, but in future this will result in an error. Use `array.size > 0` to check that an array is not empty.\n",
      "  if diff:\n",
      "/anaconda3/envs/dsi/lib/python3.6/site-packages/sklearn/preprocessing/label.py:151: DeprecationWarning: The truth value of an empty array is ambiguous. Returning False, but in future this will result in an error. Use `array.size > 0` to check that an array is not empty.\n",
      "  if diff:\n"
     ]
    }
   ],
   "source": [
    "vote = VotingClassifier([\n",
    "    ('ada', AdaBoostClassifier()),\n",
    "    ('gb', GradientBoostingClassifier())\n",
    "])\n",
    "vote.fit(X_train, y_train)\n",
    "print(vote.score(X_train, y_train))\n",
    "print(vote.score(X_test, y_test))"
   ]
  },
  {
   "cell_type": "markdown",
   "metadata": {},
   "source": [
    "All this scores dosn't make us happy, so let's repeat all this process with TF-IDF Vectorizer."
   ]
  },
  {
   "cell_type": "code",
   "execution_count": 57,
   "metadata": {},
   "outputs": [
    {
     "data": {
      "text/plain": [
       "(4588, 100058)"
      ]
     },
     "execution_count": 57,
     "metadata": {},
     "output_type": "execute_result"
    }
   ],
   "source": [
    "vectorizer = TfidfVectorizer(stop_words='english')\n",
    "model = vectorizer.fit_transform(df_feat['text'])\n",
    "tfidf = pd.DataFrame(model.todense(),columns=vectorizer.get_feature_names())\n",
    "tfidf.shape"
   ]
  },
  {
   "cell_type": "code",
   "execution_count": 58,
   "metadata": {},
   "outputs": [],
   "source": [
    "from sklearn.decomposition import TruncatedSVD\n",
    "from sklearn.pipeline import Pipeline\n",
    "\n",
    "documents = df_feat['text'].copy()\n",
    "\n",
    "vectorizer = TfidfVectorizer(stop_words='english', \n",
    "                             use_idf=True, \n",
    "                             smooth_idf=True)\n",
    "\n",
    "svd_model = TruncatedSVD(n_components=2000, algorithm='arpack')\n",
    "\n",
    "svd_transformer = Pipeline([('tfidf', vectorizer), \n",
    "                            ('svd', svd_model)])\n",
    "\n",
    "svd_matrix = svd_transformer.fit_transform(documents) \n",
    "\n",
    "truncated = pd.DataFrame(svd_matrix)"
   ]
  },
  {
   "cell_type": "code",
   "execution_count": 59,
   "metadata": {},
   "outputs": [],
   "source": [
    "X_train, X_test, y_train, y_test = train_test_split(truncated,\n",
    "                                                    y,\n",
    "                                                    random_state = 42)"
   ]
  },
  {
   "cell_type": "code",
   "execution_count": 60,
   "metadata": {},
   "outputs": [
    {
     "name": "stdout",
     "output_type": "stream",
     "text": [
      "0.8561464690496948\n",
      "0.6233653007846556\n"
     ]
    }
   ],
   "source": [
    "lr = LogisticRegression()\n",
    "lr.fit(X_train, y_train)\n",
    "\n",
    "print(lr.score(X_train, y_train))\n",
    "\n",
    "print(lr.score(X_test, y_test))"
   ]
  },
  {
   "cell_type": "code",
   "execution_count": 61,
   "metadata": {},
   "outputs": [
    {
     "name": "stdout",
     "output_type": "stream",
     "text": [
      "0.6384750396597698\n",
      "0.5858211505600911\n"
     ]
    }
   ],
   "source": [
    "kf = KFold(n_splits=5, shuffle=True,random_state=42)\n",
    "logreg = LogisticRegression(random_state=42)\n",
    "print(cross_val_score(logreg,X_train,y_train,cv=kf).mean())\n",
    "print(cross_val_score(logreg,X_test,y_test,cv=kf).mean())"
   ]
  },
  {
   "cell_type": "code",
   "execution_count": 62,
   "metadata": {},
   "outputs": [
    {
     "data": {
      "text/plain": [
       "0.5383613326585935"
      ]
     },
     "execution_count": 62,
     "metadata": {},
     "output_type": "execute_result"
    }
   ],
   "source": [
    "rf = RandomForestClassifier(random_state=42)\n",
    "cross_val_score(rf,truncated,y,cv=kf).mean()"
   ]
  },
  {
   "cell_type": "code",
   "execution_count": 63,
   "metadata": {},
   "outputs": [
    {
     "name": "stdout",
     "output_type": "stream",
     "text": [
      "Fitting 3 folds for each of 3 candidates, totalling 9 fits\n"
     ]
    },
    {
     "name": "stderr",
     "output_type": "stream",
     "text": [
      "[Parallel(n_jobs=1)]: Done   9 out of   9 | elapsed:  6.7min finished\n"
     ]
    },
    {
     "data": {
      "text/plain": [
       "0.4775501307759372"
      ]
     },
     "execution_count": 63,
     "metadata": {},
     "output_type": "execute_result"
    }
   ],
   "source": [
    "knn_params = {\n",
    "    'n_neighbors': [5,10,20],\n",
    "    'weights': ['distance'],\n",
    "    'metric': ['manhattan']\n",
    "}\n",
    "\n",
    "grid = GridSearchCV(KNeighborsClassifier(),\n",
    "                    knn_params,\n",
    "                    cv=3,\n",
    "                    verbose = 1,\n",
    "                   return_train_score = True)\n",
    "\n",
    "grid.fit(truncated, y)\n",
    "grid.best_score_"
   ]
  },
  {
   "cell_type": "code",
   "execution_count": 64,
   "metadata": {},
   "outputs": [
    {
     "name": "stdout",
     "output_type": "stream",
     "text": [
      "0.8311537343795409\n",
      "0.6094158674803836\n"
     ]
    },
    {
     "name": "stderr",
     "output_type": "stream",
     "text": [
      "/anaconda3/envs/dsi/lib/python3.6/site-packages/sklearn/preprocessing/label.py:151: DeprecationWarning: The truth value of an empty array is ambiguous. Returning False, but in future this will result in an error. Use `array.size > 0` to check that an array is not empty.\n",
      "  if diff:\n",
      "/anaconda3/envs/dsi/lib/python3.6/site-packages/sklearn/preprocessing/label.py:151: DeprecationWarning: The truth value of an empty array is ambiguous. Returning False, but in future this will result in an error. Use `array.size > 0` to check that an array is not empty.\n",
      "  if diff:\n"
     ]
    }
   ],
   "source": [
    "vote = VotingClassifier([\n",
    "    ('ada', AdaBoostClassifier()),\n",
    "    ('gb', GradientBoostingClassifier())\n",
    "])\n",
    "vote.fit(X_train, y_train)\n",
    "print(vote.score(X_train, y_train))\n",
    "print(vote.score(X_test, y_test))"
   ]
  },
  {
   "cell_type": "markdown",
   "metadata": {},
   "source": [
    "### After trying many different combinations of parameters for all this models the best score is around  0.6233. \n",
    "### There is still a big room for experiments, with different combinations of features, stop-words and parameters. Also I think that creating dataset of raitings of actors and directors and even other members of the crew will help a lot."
   ]
  },
  {
   "cell_type": "markdown",
   "metadata": {},
   "source": [
    "### Next most exciting step of this project is [NLP modeling with entire movie scripts](./3_NLP_Scripts.ipynb)."
   ]
  }
 ],
 "metadata": {
  "kernelspec": {
   "display_name": "Python [default]",
   "language": "python",
   "name": "python3"
  },
  "language_info": {
   "codemirror_mode": {
    "name": "ipython",
    "version": 3
   },
   "file_extension": ".py",
   "mimetype": "text/x-python",
   "name": "python",
   "nbconvert_exporter": "python",
   "pygments_lexer": "ipython3",
   "version": "3.6.5"
  }
 },
 "nbformat": 4,
 "nbformat_minor": 2
}
